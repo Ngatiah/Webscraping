{
 "cells": [
  {
   "cell_type": "markdown",
   "metadata": {},
   "source": [
    "# Anaconda Crash Course: Using Anaconda (“Conda”) to Supplement Python\n",
    "\n",
    "***\n",
    "\n",
    "Python is a valuable scripting language for data analysis and management; however managing a Python project environment can be nuanced and tricky. Anaconda is a platform built to complement Python by creating customizable and easily accessible environments in which you can run Python scripts. \n",
    "\n",
    "For reference, the Anaconda homepage is found at the following address.\n",
    "\n",
    "https://www.anaconda.com/\n",
    "\n",
    "The following tutorial runs through the installation of Anaconda, and then introduces you to the concepts behind Anaconda that make it a nice and useful Python development environment.\n",
    "\n",
    "***\n",
    "\n",
    "### Install Anaconda (aka Conda)\n",
    "\n",
    "The Anaconda homepage contains the materials that you need to install Anaconda on your machine. You will primarily be using Anaconda through the command line, so you will have to get comfortable working on the command line. \n",
    "\n",
    "## 1. Check Anaconda Version and Install\n",
    "\n",
    "The first step is to open Terminal and check to see if you have Anaconda installed. If not, we will install it. To check the version, follow the following commands.\n",
    "\n",
    "#### i. Open Terminal\n",
    "#### ii. Check Version\n",
    "\n",
    "The syntax to access Anaconda on the command line is simply ‘conda’. To check the version you have installed, use the following:\n",
    "\n",
    "```sh\n",
    "\tconda --version\n",
    "```\n",
    "\n",
    "If you have it installed, you will see platform information, version details, and environment paths after you hit enter, if not, the terminal will not recognize the command.\n",
    "\n",
    "\n",
    "#### iii. Install Anaconda\n",
    "\n",
    "To install ‘Conda’, navigate to the Anaconda home page at:\n",
    "\n",
    "[Anaconda Homepage and Downloads](https://www.anaconda.com/)\n",
    "\n",
    "Here, pick your system (Mac/Windows/Linux) and the Python version. In our case, we are going to pick Linux. Use the graphical installer, it will provide us a wizard that will step us through the installation process.  Download the installer, double click the package file and follow the instructions.\n",
    "\n",
    "If you run into problems installing, or you get an error that states that Anaconda cannot be install in the default location, visit their page for short instructions on how to troubleshoot installation.\n",
    "\n",
    "Anaconda is contained in one directory, so if you ever need to uninstall Anaconda, use Terminal to remove the entire Anaconda directory using **rm -rf ~/anaconda**.\n",
    "\n",
    "We used Python 3.11\n",
    "\n",
    "## 2. Confirm the installation worked properly\n",
    "\n",
    "Once we are finished with the installation, check to make sure it installed correctly open your terminal and you should see '(base)' - this tells you that you’re in your base conda environment\n",
    "\n",
    "```sh\n",
    "\tconda info\n",
    "```\n",
    "\n",
    "***\n",
    "\n",
    "## 3. The Anaconda 30-minute Test Drive\n",
    "\n",
    "Now let’s familiarize with what exactly Anaconda allows us to do. On a basic level, Anaconda is a Python distribution that adds many features and streamlines work with the language. It does this by creating specific environments on your machine in which you can specify the packages that are installed and used, and easily lets you toggle between environments. With in the individual environments, you can perform analysis, run scripts, and develop code.\n",
    "\n",
    "Environments are the bread and butter of Anaconda, because not all Python scripts you run will use the same packages, so you can customize exactly what you need, and create a sandbox that lets you try new things. Your environments will save the packages you have installed, allowing you to easily load an environment and run your scripts.\n",
    "\n",
    "The Anaconda team has put together a very nice Test Drive that is designed to take about a half hour that will introduce you to concepts around Anaconda, including setting up an environment, toggling between environments, managing the Python version you are using, managing the Python packages you are using in your environments, and finally, removing or uninstall packages and environments if you no longer need them.\n",
    "\n",
    "Working with Anaconda can make working with Python a much more pleasant experience. For additional resources, including cheatsheets and useful links, see the following materials.\n",
    "\n",
    "***\n",
    "\n",
    "## 4. Fire up Python - Web Scraping using Beautiful Soup\n",
    "\n",
    "Let's scrape some data. For the last part of this exercise, we are going to get into a bit of Python. Our goal will be to scrape some data a simple website to create a dataset of the best restaurants in Boston. Using a Python library called Beautiful Soup. To do so, we will create a Anaconda environment in which we can install modules and packages that we need to run the scraper (Beautiful Soup and Requests) To start, lets create an environment, like we just learned about in the Anaconda Test Drive.\n",
    "\n",
    "The website we are going to scrape is here.\n",
    "\n",
    "[Books in ](http://duspviz.mit.edu/_assets/data/sample.html)\n",
    "\n",
    "Let's get started!\n",
    "\n",
    "\n",
    "#### i. Create Virtual Environment in Conda\n",
    "\n",
    "The first step is to create our virtual environment. In this environment, we can set up the packages and program versions we need to optimally run our script. Create an environment called **souperscraper** using the following syntax in terminal. We are going to install the Beautiful Soup program when we create the environment.\n",
    "\n",
    "```sh\n",
    "\tconda create --name myenv python=3.11\n",
    "```\n",
    "\n",
    "Anaconda will ask install a handful of new packages that Python will work with in this environment, including Beautiful Soup version 4. When prompted, hit **y** to continue the installation. You should see that we are using Python 2.7, Beautiful Soup 4.4.1, and a handful of others.\n",
    "\n",
    "After creating the environment, launch the environment by typing the following. This will launch a virtual environment and allow us to access and run Python using the version and all packages we have installed into it.\n",
    "\n",
    "```sh\n",
    "\tsource activate myenv\n",
    "```\n",
    "\n",
    "All work we do now will be in our **myenv** environment.\n",
    "\n",
    "#### ii. Add Packages to Environment\n",
    "\n",
    "The next step is to a package we can use to access websites in our script. So the next package we want to install is called **requests**. Requests is a package that lets us make HTTP calls to websites from right inside our script. To install requests use **one** of the following syntaxes.\n",
    "\n",
    "Using [Easy Install](http://peak.telecommunity.com/DevCenter/EasyInstall) (a Python Packager, comes with Python/Conda)\n",
    "\n",
    "```sh\n",
    "\teasy_install requests\n",
    "```\n",
    "\n",
    "or [PIP](https://pip.pypa.io/en/stable/) (another Python Module Packager, perhaps more common, comes with Python/Conda)\n",
    "\n",
    "```sh\n",
    "\tpip install requests  or using conda :  conda install requestsc\n",
    "```\n",
    "\n",
    "Both of these methods will install requests. [Requests](http://docs.python-requests.org/en/latest/) is a library that makes it easy to access code from pages across the web, and view it in various forms. For data scraping, it is immensely useful.\n",
    "\n",
    "The workflow is the following: we will call a website using 'requests' and then parse it into components using 'beautifulsoup4'. Also, at this time, set your working directory in terminal to where you want files to save and update. To see your current working directory, type in **pwd** in terminal (this stands for Print Working Directory). To change, use **cd** followed by the path.\n",
    "\n",
    "#### iii. Simple Scraping Script using Beautiful Soup and Requests\n",
    "\n",
    "A great example to get into the usefulness of Python, especially for Big Data, is to try to get a bit of data. Open up your terminal to start working with Beautiful Soup on the command line. Start by firing up Python by entering the following.\n",
    "\n",
    "```sh\n",
    "\tpython\n",
    "```\n",
    "\n",
    "Python will launch in the terminal. Next, lets import modules. **import requests** imports the requests module, and **import bs4** imports the Beautiful Soup library."
   ]
  },
  {
   "cell_type": "code",
   "execution_count": 2,
   "metadata": {
    "collapsed": true
   },
   "outputs": [],
   "source": [
    "import requests\n",
    "import bs4"
   ]
  },
  {
   "cell_type": "markdown",
   "metadata": {},
   "source": [
    "#### Testing out Requests\n",
    "\n",
    "Requests will allow us to load a webpage into python so that we can parse it and manipulate it. Test this by running the following. I am using a really simple page from the Beautiful Soup documentation to explain what is happening here."
   ]
  },
  {
   "cell_type": "code",
   "execution_count": 3,
   "metadata": {
    "collapsed": false
   },
   "outputs": [
    {
     "name": "stdout",
     "output_type": "stream",
     "text": [
      "<html><head><title>Where are the rats?</title></head>\n",
      "<body>\n",
      "<p class=\"title\"><b>Rat Incidents in Greater Boston</b></p>\n",
      "\n",
      "<p class=\"story\">The following is rodent incident data for \n",
      "<a href=\"http://example.com/boston\" class=\"link\" id=\"link1\">Boston</a>,\n",
      "<a href=\"http://example.com/brookline\" class=\"link\" id=\"link2\">Brookline</a>,\n",
      "<a href=\"http://example.com/cambridge\" class=\"link\" id=\"link2\">Cambridge</a>, and\n",
      "<a href=\"http://example.com/somerville\" class=\"link\" id=\"link3\">Somerville</a>;\n",
      "and it only available here.</p>\n",
      "\n",
      "<table>\n",
      "\t<thead>\n",
      "\t\t<tr>\n",
      "\t\t\t<th>City</th>\n",
      "\t\t\t<th># of rats</th>\n",
      "\t\t</tr>\n",
      "\t</thead>\n",
      "\t<tbody>\n",
      "\t\t<tr>\n",
      "\t\t\t<td class=\"city\">Cambridge</td>\n",
      "\t\t\t<td class=\"number\">400</td>\n",
      "\t\t</tr>\n",
      "\t\t<tr>\n",
      "\t\t\t<td class=\"city\">Boston</td>\n",
      "\t\t\t<td class=\"number\">900</td>\n",
      "\t\t</tr>\n",
      "\t\t<tr>\n",
      "\t\t\t<td class=\"city\">Somerville</td>\n",
      "\t\t\t<td class=\"number\">300</td>\n",
      "\t\t</tr>\n",
      "\t\t<tr>\n",
      "\t\t\t<td class=\"city\">Brookline</td>\n",
      "\t\t\t<td class=\"number\">600</td>\n",
      "\t\t</tr>\n",
      "\t</tbody>\n",
      "</table>\n",
      "\n",
      "</body>\n",
      "\n"
     ]
    }
   ],
   "source": [
    "response = requests.get('https://books.toscrape.com/catalogue/category/books/music_14/index.html')\n",
    "print(response.text)\n"
   ]
  },
  {
   "cell_type": "markdown",
   "metadata": {},
   "source": [
    "This allowed us to access all of the content from the source code of the webpage with Python, which we can now parse and extract data. Pretty cool!\n",
    "\n",
    "#### Testing out Beautiful Soup\n",
    "\n",
    "Our next big step is to test out Beautiful Soup. Let's talk about what this is...\n",
    "\n",
    "### What is Beautiful Soup?\n",
    "\n",
    "Beautiful Soup is a Python library for parsing data out of HTML and XML files (aka webpages). It works with your favorite parser to provide idiomatic ways of navigating, searching, and modifying the parse tree. The major concept with Beautiful Soup is that it allows you to access elements of your page by following the CSS structures, such as grabbing all links, all headers, specific classes, or more. It is a powerful library. Once we grab elements, Python makes it makes it easy to write the elements or relevant components of the elements into other files, such as a CSV, that can be stored in a database or opened in other software.\n",
    "\n",
    "The sample webpage we are using contains data on 'A sandbox site for practicing scraping book data'. Let's use this file to explore the tree, and extract some data.\n",
    "\n",
    "#### iv. Make the Soup\n",
    "\n",
    "First, we have to turn the website code into a Python object. We have already imported the Beautiful Soup library, so we can start calling some of the methods in the libary. Replace **print response.text** with the following. This turns the text into an Python object named **soup**.\n",
    "\n",
    "An important note: You need to specify the specific parser that Beautiful Soup uses to parse your text. This is done in the second argument of the BeautifulSoup function. The default is the built in Python parser, which we can call using **html.parser**\n",
    "\n",
    "You an also use **lxml** or **html5lib**. This is nicely described in the [documentation](http://www.crummy.com/software/BeautifulSoup/bs4/doc/#installing-a-parser). For our purposes, using the default is fine.\n",
    "\n",
    "Using the Beautiful Soup **prettify()** function, we can print the page to see the code printed in a readable and legible manner."
   ]
  },
  {
   "cell_type": "code",
   "execution_count": 4,
   "metadata": {
    "collapsed": false
   },
   "outputs": [
    {
     "name": "stdout",
     "output_type": "stream",
     "text": [
      "<</li>
                    
                        <li class="col-xs-6 col-sm-4 col-md-3 col-lg-3">






    <article class="product_pod">
        
            <div class="image_container">
                
                    
                    <a href="../../../our-band-could-be-your-life-scenes-from-the-american-indie-underground-1981-1991_985/index.html"><img src="../../../../media/cache/54/60/54607fe8945897cdcced0044103b10b6.jpg" alt="Our Band Could Be Your Life: Scenes from the American Indie Underground, 1981-1991" class="thumbnail"></a>
                    
                
            </div>
        

        
            
                <p class="star-rating Three">
                    <i class="icon-star"></i>
                    <i class="icon-star"></i>
                    <i class="icon-star"></i>
                    <i class="icon-star"></i>
                    <i class="icon-star"></i>
                </p>
            
        

        
            <h3><a href="../../../our-band-could-be-your-life-scenes-from-the-american-indie-underground-1981-1991_985/index.html" title="Our Band Could Be Your Life: Scenes from the American Indie Underground, 1981-1991">Our Band Could Be ...</a></h3>
        

        
            <div class="product_price">
                






    
        <p class="price_color">Â£57.25</p>
    

<p class="instock availability">
    <i class="icon-ok"></i>
    
        In stock
    
</p>

                
                    






    
    <form>
        <button type="submit" class="btn btn-primary btn-block" data-loading-text="Adding...">Add to basket</button>
    </form>


                
            </div>
        
    </article>

</li>
                    
                        <li class="col-xs-6 col-sm-4 col-md-3 col-lg-3">






    <article class="product_pod">
        
            <div class="image_container">
                
                    
                    <a href="../../../how-music-works_979/index.html"><img src="../../../../media/cache/5c/c8/5cc8e107246cb478960d4f0aba1e1c8e.jpg" alt="How Music Works" class="thumbnail"></a>
                    
                
            </div>
        

        
            
                <p class="star-rating Two">
                    <i class="icon-star"></i>
                    <i class="icon-star"></i>
                    <i class="icon-star"></i>
                    <i class="icon-star"></i>
                    <i class="icon-star"></i>
                </p>
            
        

        
            <h3><a href="../../../how-music-works_979/index.html" title="How Music Works">How Music Works</a></h3>
        

        
            <div class="product_price">
                






    
        <p class="price_color">Â£37.32</p>
    

<p class="instock availability">
    <i class="icon-ok"></i>
    
        In stock
    
</p>

                
                    






    
    <form>
        <button type="submit" class="btn btn-primary btn-block" data-loading-text="Adding...">Add to basket</button>
    </form>


                
            </div>
        
    </article>

</li>
                    
                        <li class="col-xs-6 col-sm-4 col-md-3 col-lg-3">






    <article class="product_pod">
        
            <div class="image_container">
                
                    
                    <a href="../../../love-is-a-mix-tape-music-1_711/index.html"><img src="../../../../media/cache/a2/6d/a26d8449abb3381e09126eda5f4e8151.jpg" alt="Love Is a Mix Tape (Music #1)" class="thumbnail"></a>
                    
                
            </div>
        

        
            
                <p class="star-rating One">
                    <i class="icon-star"></i>
                    <i class="icon-star"></i>
                    <i class="icon-star"></i>
                    <i class="icon-star"></i>
                    <i class="icon-star"></i>
                </p>
            
        

        
            <h3><a href="../../../love-is-a-mix-tape-music-1_711/index.html" title="Love Is a Mix Tape (Music #1)">Love Is a Mix ...</a></h3>
        

        
            <div class="product_price">
                






    
        <p class="price_color">Â£18.03</p>
    

<p class="instock availability">
    <i class="icon-ok"></i>
    
        In stock
    
</p>

                
                    






    
    <form>
        <button type="submit" class="btn btn-primary btn-block" data-loading-text="Adding...">Add to basket</button>
    </form>


                
            </div>
        
    </article>

</li>
                    
                        <li class="col-xs-6 col-sm-4 col-md-3 col-lg-3">






    <article class="product_pod">
        
            <div class="image_container">
                
                    
                    <a href="../../../please-kill-me-the-uncensored-oral-history-of-punk_537/index.html"><img src="../../../../media/cache/06/f1/06f185c0be2ad6e2fe059464c03f1b47.jpg" alt="Please Kill Me: The Uncensored Oral History of Punk" class="thumbnail"></a>
                    
                
            </div>
        

        
            
                <p class="star-rating Four">
                    <i class="icon-star"></i>
                    <i class="icon-star"></i>
                    <i class="icon-star"></i>
                    <i class="icon-star"></i>
                    <i class="icon-star"></i>
                </p>
            
        

        
            <h3><a href="../../../please-kill-me-the-uncensored-oral-history-of-punk_537/index.html" title="Please Kill Me: The Uncensored Oral History of Punk">Please Kill Me: The ...</a></h3>
        

        
            <div class="product_price">
                






    
        <p class="price_color">Â£31.19</p>
    

<p class="instock availability">
    <i class="icon-ok"></i>
    
        In stock
    
</p>

                
                    






    
    <form>
        <button type="submit" class="btn btn-primary btn-block" data-loading-text="Adding...">Add to basket</button>
    </form>


                
            </div>
        
    </article>

</li>
                    
                        <li class="col-xs-6 col-sm-4 col-md-3 col-lg-3">






    <article class="product_pod">
        
            <div class="image_container">
                
                    
                    <a href="../../../kill-em-and-leave-searching-for-james-brown-and-the-american-soul_528/index.html"><img src="../../../../media/cache/85/42/8542841f5644a6daf433504f1e106e97.jpg" alt="Kill &#39;Em and Leave: Searching for James Brown and the American Soul" class="thumbnail"></a>
                    
                
            </div>
        

        
            
                <p class="star-rating Five">
                    <i class="icon-star"></i>
                    <i class="icon-star"></i>
                    <i class="icon-star"></i>
                    <i class="icon-star"></i>
                    <i class="icon-star"></i>
                </p>
            
        

        
            <h3><a href="../../../kill-em-and-leave-searching-for-james-brown-and-the-american-soul_528/index.html" title="Kill &#39;Em and Leave: Searching for James Brown and the American Soul">Kill &#39;Em and Leave: ...</a></h3>
        

        
            <div class="product_price">
                






    
        <p class="price_color">Â£45.05</p>
    

<p class="instock availability">
    <i class="icon-ok"></i>
    
        In stock
    
</p>

                
                    






    
    <form>
        <button type="submit" class="btn btn-primary btn-block" data-loading-text="Adding...">Add to basket</button>
    </form>


                
            </div>
        
    </article>

</li>
                    
                        <li class="col-xs-6 col-sm-4 col-md-3 col-lg-3">






    <article class="product_pod">
        
            <div class="image_container">
                
                    
                    <a href="../../../chronicles-vol-1_462/index.html"><img src="../../../../media/cache/11/fc/11fc94453c4dc0d68543971d7843afb0.jpg" alt="Chronicles, Vol. 1" class="thumbnail"></a>
                    
                
            </div>
        

        
            
                <p class="star-rating Two">
                    <i class="icon-star"></i>
                    <i class="icon-star"></i>
                    <i class="icon-star"></i>
                    <i class="icon-star"></i>
                    <i class="icon-star"></i>
                </p>
            
        

        
            <h3><a href="../../../chronicles-vol-1_462/index.html" title="Chronicles, Vol. 1">Chronicles, Vol. 1</a></h3>
        

        
            <div class="product_price">
                






    
        <p class="price_color">Â£52.60</p>
    

<p class="instock availability">
    <i class="icon-ok"></i>
    
        In stock
    
</p>

                
                    






    
    <form>
        <button type="submit" class="btn btn-primary btn-block" data-loading-text="Adding...">Add to basket</button>
    </form>


                
            </div>
        
    </article>

</li>
                    
                        <li class="col-xs-6 col-sm-4 col-md-3 col-lg-3">






    <article class="product_pod">
        
            <div class="image_container">
                
                    
                    <a href="../../../this-is-your-brain-on-music-the-science-of-a-human-obsession_414/index.html"><img src="../../../../media/cache/35/a4/35a4a7c6c76c4e82186753078e441654.jpg" alt="This Is Your Brain on Music: The Science of a Human Obsession" class="thumbnail"></a>
                    
                
            </div>
        

        
            
                <p class="star-rating One">
                    <i class="icon-star"></i>
                    <i class="icon-star"></i>
                    <i class="icon-star"></i>
                    <i class="icon-star"></i>
                    <i class="icon-star"></i>
                </p>
            
        

        
            <h3><a href="../../../this-is-your-brain-on-music-the-science-of-a-human-obsession_414/index.html" title="This Is Your Brain on Music: The Science of a Human Obsession">This Is Your Brain ...</a></h3>
        

        
            <div class="product_price">
                






    
        <p class="price_color">Â£38.40</p>
    

<p class="instock availability">
    <i class="icon-ok"></i>
    
        In stock
    
</p>

                
                    






    
    <form>
        <button type="submit" class="btn btn-primary btn-block" data-loading-text="Adding...">Add to basket</button>
    </form>


                
            </div>
        
    </article>

</li>
                    
                        <li class="col-xs-6 col-sm-4 col-md-3 col-lg-3">






    <article class="product_pod">
        
            <div class="image_container">
                
                    
                    <a href="../../../orchestra-of-exiles-the-story-of-bronislaw-huberman-the-israel-philharmonic-and-the-one-thousand-jews-he-saved-from-nazi-horrors_337/index.html"><img src="../../../../media/cache/15/de/15de75548ee9a4c6be1420ee309c03e0.jpg" alt="Orchestra of Exiles: The Story of Bronislaw Huberman, the Israel Philharmonic, and the One Thousand Jews He Saved from Nazi Horrors" class="thumbnail"></a>
                    
                
            </div>
        

        
            
                <p class="star-rating Three">
                    <i class="icon-star"></i>
                    <i class="icon-star"></i>
                    <i class="icon-star"></i>
                    <i class="icon-star"></i>
                    <i class="icon-star"></i>
                </p>
            
        

        
            <h3><a href="../../../orchestra-of-exiles-the-story-of-bronislaw-huberman-the-israel-philharmonic-and-the-one-thousand-jews-he-saved-from-nazi-horrors_337/index.html" title="Orchestra of Exiles: The Story of Bronislaw Huberman, the Israel Philharmonic, and the One Thousand Jews He Saved from Nazi Horrors">Orchestra of Exiles: The ...</a></h3>
        

        
            <div class="product_price">
                






    
        <p class="price_color">Â£12.36</p>
    

<p class="instock availability">
    <i class="icon-ok"></i>
    
        In stock
    
</p>

                
                    






    
    <form>
        <button type="submit" class="btn btn-primary btn-block" data-loading-text="Adding...">Add to basket</button>
    </form>


                
            </div>
        
    </article>

</li>
                    
                        <li class="col-xs-6 col-sm-4 col-md-3 col-lg-3">






    <article class="product_pod">
        
            <div class="image_container">
                
                    
                    <a href="../../../no-one-here-gets-out-alive_336/index.html"><img src="../../../../media/cache/7a/7e/7a7eb52e7075a5305522948375c1316e.jpg" alt="No One Here Gets Out Alive" class="thumbnail"></a>
                    
                
            </div>
        

        
            
                <p class="star-rating Five">
                    <i class="icon-star"></i>
                    <i class="icon-star"></i>
                    <i class="icon-star"></i>
                    <i class="icon-star"></i>
                    <i class="icon-star"></i>
                </p>
            
        

        
            <h3><a href="../../../no-one-here-gets-out-alive_336/index.html" title="No One Here Gets Out Alive">No One Here Gets ...</a></h3>
        

        
            <div class="product_price">
                






    
        <p class="price_color">Â£20.02</p>
    

<p class="instock availability">
    <i class="icon-ok"></i>
    
        In stock
    
</p>

                
                    






    
    <form>
        <button type="submit" class="btn btn-primary btn-block" data-loading-text="Adding...">Add to basket</button>
    </form>


                
            </div>
        
    </article>

</li>
                    
                        <li class="col-xs-6 col-sm-4 col-md-3 col-lg-3">






    <article class="product_pod">
        
            <div class="image_container">
                
                    
                    <a href="../../../life_104/index.html"><img src="../../../../media/cache/99/97/9997eda658c2fe50e724171f9c2a2b0b.jpg" alt="Life" class="thumbnail"></a>
                    
                
            </div>
        

        
            
                <p class="star-rating Five">
                    <i class="icon-star"></i>
                    <i class="icon-star"></i>
                    <i class="icon-star"></i>
                    <i class="icon-star"></i>
                    <i class="icon-star"></i>
                </p>
            
        

        
            <h3><a href="../../../life_104/index.html" title="Life">Life</a></h3>
        

        
            <div class="product_price">
                






    
        <p class="price_color">Â£31.58</p>
    

<p class="instock availability">
    <i class="icon-ok"></i>
    
        In stock
    
</p>

                
                    






    
    <form>
        <button type="submit" class="btn btn-primary btn-block" data-loading-text="Adding...">Add to basket</button>
    </form>


                
            </div>
        
    </article>

</li>
                    
                        <li class="col-xs-6 col-sm-4 col-md-3 col-lg-3">






    <article class="product_pod">
        
            <div class="image_container">
                
                    
                    <a href="../../../old-records-never-die-one-mans-quest-for-his-vinyl-and-his-past_39/index.html"><img src="../../../../media/cache/7e/94/7e947f3dd04f178175b85123829467a9.jpg" alt="Old Records Never Die: One Man&#39;s Quest for His Vinyl and His Past" class="thumbnail"></a>
                    
                
            </div>
        

        
            
                <p class="star-rating Two">
                    <i class="icon-star"></i>
                    <i class="icon-star"></i>
                    <i class="icon-star"></i>
                    <i class="icon-star"></i>
                    <i class="icon-star"></i>
                </p>
            
        

        
            <h3><a href="../../../old-records-never-die-one-mans-quest-for-his-vinyl-and-his-past_39/index.html" title="Old Records Never Die: One Man&#39;s Quest for His Vinyl and His Past">Old Records Never Die: ...</a></h3>
        

        
            <div class="product_price">
                






    
        <p class="price_color">Â£55.66</p>
    

<p class="instock availability">
    <i class="icon-ok"></i>
    
        In stock
    
</p>

                
                    






    
    <form>
        <button type="submit" class="btn btn-primary btn-block" data-loading-text="Adding...">Add to basket</button>
    </form>


                
            </div>
        
    </article>

</li>
                    
                        <li class="col-xs-6 col-sm-4 col-md-3 col-lg-3">






    <article class="product_pod">
        
            <div class="image_container">
                    <a href="../../../forever-rockers-the-rocker-12_19/index.html"><img src="../../../../media/cache/7f/b0/7fb03a053c270000667a50dd8d594843.jpg" alt="Forever Rockers (The Rocker #12)" class="thumbnail"></a>
            </div>
            
                <p class="star-rating Three">
                    <i class="icon-star"></i>
                    <i class="icon-star"></i>
                    <i class="icon-star"></i>
                    <i class="icon-star"></i>
                    <i class="icon-star"></i>
                </p>
        
            <h3><a href="../../../forever-rockers-the-rocker-12_19/index.html" title="Forever Rockers (The Rocker #12)">Forever Rockers (The Rocker ...</a></h3>
            <div class="product_price">
        <p class="price_color">Â£28.80</p>
<p class="instock availability">
    <i class="icon-ok"></i>
        In stock
    
</p>
    <form>
        <button type="submit" class="btn btn-primary btn-block" data-loading-text="Adding...">Add to basket</button>
    </form>
            </div>
        
    </article>

</li>        
                </ol>

            </div>
        </section>
    



            </div>

        </div><!-- /row -->
    </div><!-- /page_inner -->
</div><!-- /container-fluid -->


    
<footer class="footer container-fluid">
    
        
    
</footer>


        
        
  
            <!-- jQuery -->
            <script src="http://ajax.googleapis.com/ajax/libs/jquery/1.9.1/jquery.min.js"></script>
            <script>window.jQuery || document.write('<script src="../../../../static/oscar/js/jquery/jquery-1.9.1.min.js"><\/script>')</script>
        
  


        
        
    
        
    <!-- Twitter Bootstrap -->
    <script type="text/javascript" src="../../../../static/oscar/js/bootstrap3/bootstrap.min.js"></script>
    <!-- Oscar -->
    <script src="../../../../static/oscar/js/oscar/ui.js" type="text/javascript" charset="utf-8"></script>

    <script src="../../../../static/oscar/js/bootstrap-datetimepicker/bootstrap-datetimepicker.js" type="text/javascript" charset="utf-8"></script>
    <script src="../../../../static/oscar/js/bootstrap-datetimepicker/locales/bootstrap-datetimepicker.all.js" type="text/javascript" charset="utf-8"></script
        
        <script type="text/javascript">
            $(function() {
    oscar.init();

    oscar.search.init();

            });
        </script>

        
        <!-- Version: N/A -->
        
    </body>
</html>\n"

     ]
    }
   ],
   "source": [
    "soup = bs4.BeautifulSoup(response.text, \"html.parser\")\n",
    "print(soup.prettify())"
     [
      "\<bound method Tag.prettify of <!DOCTYPE html>
<!--[if lt IE 7]>      <html lang="en-us" class="no-js lt-ie9 lt-ie8 lt-ie7"> <![endif]--><!--[if IE 7]>         <html lang="en-us" class="no-js lt-ie9 lt-ie8"> <![endif]--><!--[if IE 8]>         <html lang="en-us" class="no-js lt-ie9"> <![endif]--><!--[if gt IE 8]><!--><html class="no-js" lang="en-us"> <!--<![endif]-->
<head>
<title>
    Music | 
     Books to Scrape - Sandbox

</title>
<meta content="text/html; charset=utf-8" http-equiv="content-type"/>
<meta content="24th Jun 2016 09:29" name="created"/>
<meta content="
    
" name="description"/>
<meta content="width=device-width" name="viewport"/>
<meta content="NOARCHIVE,NOCACHE" name="robots"/>
<!-- Le HTML5 shim, for IE6-8 support of HTML elements -->
<!--[if lt IE 9]>
        <script src="//html5shim.googlecode.com/svn/trunk/html5.js"></script>
        <![endif]-->
<link href="../../../../static/oscar/favicon.ico" rel="shortcut icon"/>
<link href="../../../../static/oscar/css/styles.css" rel="stylesheet" type="text/css"/>
<link href="../../../../static/oscar/js/bootstrap-datetimepicker/bootstrap-datetimepicker.css" rel="stylesheet"/>
<link href="../../../../static/oscar/css/datetimepicker.css" rel="stylesheet" type="text/css"/>
</head>
<body class="default" id="default">
<header class="header container-fluid">
<div class="page_inner">
<div class="row">
<div class="col-sm-8 h1"><a href="../../../../index.html">Books to Scrape</a><small> We love being scraped!</small>
</div>
</div>
</div>
</header>
<div class="container-fluid page">
<div class="page_inner">
<ul class="breadcrumb">
<li>
<a href="../../../../index.html">Home</a>
</li>
<li>
<a href="../../books_1/index.html">Books</a>
</li>
<li class="active">Music</li>
</ul>
<div class="row">
<aside class="sidebar col-sm-4 col-md-3">
<div id="promotions_left">
</div>
<div class="side_categories">
<ul class="nav nav-list">
<li>
<a href="../../books_1/index.html">
                            
                                Books
                            
                        </a>
<ul>
<li>
<a href="../travel_2/index.html">
                            
                                Travel
                            
                        </a>
</li>
<li>
<a href="../mystery_3/index.html">
                            
                                Mystery
                            
                        </a>
</li>
<li>
<a href="../historical-fiction_4/index.html">
                            
                                Historical Fiction
                            
                        </a>
</li>
<li>
<a href="../sequential-art_5/index.html">
                            
                                Sequential Art
                            
                        </a>
</li>
<li>
<a href="../classics_6/index.html">
                            
                                Classics
                            
                        </a>
</li>
<li>
<a href="../philosophy_7/index.html">
                            
                                Philosophy
                            
                        </a>
</li>
<li>
<a href="../romance_8/index.html">
                            
                                Romance
                            
                        </a>
</li>
<li>
<a href="../womens-fiction_9/index.html">
                            
                                Womens Fiction
                            
                        </a>
</li>
<li>
<a href="../fiction_10/index.html">
                            
                                Fiction
                            
                        </a>
</li>
<li>
<a href="../childrens_11/index.html">
                            
                                Childrens
                            
                        </a>
</li>
<li>
<a href="../religion_12/index.html">
                            
                                Religion
                            
                        </a>
</li>
<li>
<a href="../nonfiction_13/index.html">
                            
                                Nonfiction
                            
                        </a>
</li>
<li>
<a href="index.html">
<strong>Music</strong>
</a>
</li>
<li>
<a href="../default_15/index.html">
                            
                                Default
                            
                        </a>
</li>
<li>
<a href="../science-fiction_16/index.html">
                            
                                Science Fiction
                            
                        </a>
</li>
<li>
<a href="../sports-and-games_17/index.html">
                            
                                Sports and Games
                            
                        </a>
</li>
<li>
<a href="../add-a-comment_18/index.html">
                            
                                Add a comment
                            
                        </a>
</li>
<li>
<a href="../fantasy_19/index.html">
                            
                                Fantasy
                            
                        </a>
</li>
<li>
<a href="../new-adult_20/index.html">
                            
                                New Adult
                            
                        </a>
</li>
<li>
<a href="../young-adult_21/index.html">
                            
                                Young Adult
                            
                        </a>
</li>
<li>
<a href="../science_22/index.html">
                            
                                Science
                            
                        </a>
</li>
<li>
<a href="../poetry_23/index.html">
                            
                                Poetry
                            
                        </a>
</li>
<li>
<a href="../paranormal_24/index.html">
                            
                                Paranormal
                            
                        </a>
</li>
<li>
<a href="../art_25/index.html">
                            
                                Art
                            
                        </a>
</li>
<li>
<a href="../psychology_26/index.html">
                            
                                Psychology
                            
                        </a>
</li>
<li>
<a href="../autobiography_27/index.html">
                            
                                Autobiography
                            
                        </a>
</li>
<li>
<a href="../parenting_28/index.html">
                            
                                Parenting
                            
                        </a>
</li>
<li>
<a href="../adult-fiction_29/index.html">
                            
                                Adult Fiction
                            
                        </a>
</li>
<li>
<a href="../humor_30/index.html">
                            
                                Humor
                            
                        </a>
</li>
<li>
<a href="../horror_31/index.html">
                            
                                Horror
                            
                        </a>
</li>
<li>
<a href="../history_32/index.html">
                            
                                History
                            
                        </a>
</li>
<li>
<a href="../food-and-drink_33/index.html">
                            
                                Food and Drink
                            
                        </a>
</li>
<li>
<a href="../christian-fiction_34/index.html">
                            
                                Christian Fiction
                            
                        </a>
</li>
<li>
<a href="../business_35/index.html">
                            
                                Business
                            
                        </a>
</li>
<li>
<a href="../biography_36/index.html">
                            
                                Biography
                            
                        </a>
</li>
<li>
<a href="../thriller_37/index.html">
                            
                                Thriller
                            
                        </a>
</li>
<li>
<a href="../contemporary_38/index.html">
                            
                                Contemporary
                            
                        </a>
</li>
<li>
<a href="../spirituality_39/index.html">
                            
                                Spirituality
                            
                        </a>
</li>
<li>
<a href="../academic_40/index.html">
                            
                                Academic
                            
                        </a>
</li>
<li>
<a href="../self-help_41/index.html">
                            
                                Self Help
                            
                        </a>
</li>
<li>
<a href="../historical_42/index.html">
                            
                                Historical
                            
                        </a>
</li>
<li>
<a href="../christian_43/index.html">
                            
                                Christian
                            
                        </a>
</li>
<li>
<a href="../suspense_44/index.html">
                            
                                Suspense
                            
                        </a>
</li>
<li>
<a href="../short-stories_45/index.html">
                            
                                Short Stories
                            
                        </a>
</li>
<li>
<a href="../novels_46/index.html">
                            
                                Novels
                            
                        </a>
</li>
<li>
<a href="../health_47/index.html">
                            
                                Health
                            
                        </a>
</li>
<li>
<a href="../politics_48/index.html">
                            
                                Politics
                            
                        </a>
</li>
<li>
<a href="../cultural_49/index.html">
                            
                                Cultural
                            
                        </a>
</li>
<li>
<a href="../erotica_50/index.html">
                            
                                Erotica
                            
                        </a>
</li>
<li>
<a href="../crime_51/index.html">
                            
                                Crime
                            
                        </a>
</li>
</ul></li>
</ul>
</div>
</aside>
<div class="col-sm-8 col-md-9">
<div class="page-header action">
<h1>Music</h1>
</div>
<div id="messages">
</div>
<div id="promotions">
</div>
<form class="form-horizontal" method="get">
<div style="display:none">
</div>
<strong>13</strong> results.
                
            
            
        
    </form>
<section>
<div class="alert alert-warning" role="alert"><strong>Warning!</strong> This is a demo website for web scraping purposes. Prices and ratings here were randomly assigned and have no real meaning.</div>
<div>
<ol class="row">
<li class="col-xs-6 col-sm-4 col-md-3 col-lg-3">
<article class="product_pod">
<div class="image_container">
<a href="../../../rip-it-up-and-start-again_986/index.html"><img alt="Rip it Up and Start Again" class="thumbnail" src="../../../../media/cache/81/c4/81c4a973364e17d01f217e1188253d5e.jpg"/></a>
</div>
<p class="star-rating Five">
<i class="icon-star"></i>
<i class="icon-star"></i>
<i class="icon-star"></i>
<i class="icon-star"></i>
<i class="icon-star"></i>
</p>
<h3><a href="../../../rip-it-up-and-start-again_986/index.html" title="Rip it Up and Start Again">Rip it Up and ...</a></h3>
<div class="product_price">
<p class="price_color">Â£35.02</p>
<p class="instock availability">
<i class="icon-ok"></i>
    
        In stock
    
</p>
<form>
<button class="btn btn-primary btn-block" data-loading-text="Adding..." type="submit">Add to basket</button>
</form>
</div>
</article>
</li>
<li class="col-xs-6 col-sm-4 col-md-3 col-lg-3">
<article class="product_pod">
<div class="image_container">
<a href="../../../our-band-could-be-your-life-scenes-from-the-american-indie-underground-1981-1991_985/index.html"><img alt="Our Band Could Be Your Life: Scenes from the American Indie Underground, 1981-1991" class="thumbnail" src="../../../../media/cache/54/60/54607fe8945897cdcced0044103b10b6.jpg"/></a>
</div>
<p class="star-rating Three">
<i class="icon-star"></i>
<i class="icon-star"></i>
<i class="icon-star"></i>
<i class="icon-star"></i>
<i class="icon-star"></i>
</p>
<h3><a href="../../../our-band-could-be-your-life-scenes-from-the-american-indie-underground-1981-1991_985/index.html" title="Our Band Could Be Your Life: Scenes from the American Indie Underground, 1981-1991">Our Band Could Be ...</a></h3>
<div class="product_price">
<p class="price_color">Â£57.25</p>
<p class="instock availability">
<i class="icon-ok"></i>
    
        In stock
    
</p>
<form>
<button class="btn btn-primary btn-block" data-loading-text="Adding..." type="submit">Add to basket</button>
</form>
</div>
</article>
</li>
<li class="col-xs-6 col-sm-4 col-md-3 col-lg-3">
<article class="product_pod">
<div class="image_container">
<a href="../../../how-music-works_979/index.html"><img alt="How Music Works" class="thumbnail" src="../../../../media/cache/5c/c8/5cc8e107246cb478960d4f0aba1e1c8e.jpg"/></a>
</div>
<p class="star-rating Two">
<i class="icon-star"></i>
<i class="icon-star"></i>
<i class="icon-star"></i>
<i class="icon-star"></i>
<i class="icon-star"></i>
</p>
<h3><a href="../../../how-music-works_979/index.html" title="How Music Works">How Music Works</a></h3>
<div class="product_price">
<p class="price_color">Â£37.32</p>
<p class="instock availability">
<i class="icon-ok"></i>
    
        In stock
    
</p>
<form>
<button class="btn btn-primary btn-block" data-loading-text="Adding..." type="submit">Add to basket</button>
</form>
</div>
</article>
</li>
<li class="col-xs-6 col-sm-4 col-md-3 col-lg-3">
<article class="product_pod">
<div class="image_container">
<a href="../../../love-is-a-mix-tape-music-1_711/index.html"><img alt="Love Is a Mix Tape (Music #1)" class="thumbnail" src="../../../../media/cache/a2/6d/a26d8449abb3381e09126eda5f4e8151.jpg"/></a>
</div>
<p class="star-rating One">
<i class="icon-star"></i>
<i class="icon-star"></i>
<i class="icon-star"></i>
<i class="icon-star"></i>
<i class="icon-star"></i>
</p>
<h3><a href="../../../love-is-a-mix-tape-music-1_711/index.html" title="Love Is a Mix Tape (Music #1)">Love Is a Mix ...</a></h3>
<div class="product_price">
<p class="price_color">Â£18.03</p>
<p class="instock availability">
<i class="icon-ok"></i>
    
        In stock
    
</p>
<form>
<button class="btn btn-primary btn-block" data-loading-text="Adding..." type="submit">Add to basket</button>
</form>
</div>
</article>
</li>
<li class="col-xs-6 col-sm-4 col-md-3 col-lg-3">
<article class="product_pod">
<div class="image_container">
<a href="../../../please-kill-me-the-uncensored-oral-history-of-punk_537/index.html"><img alt="Please Kill Me: The Uncensored Oral History of Punk" class="thumbnail" src="../../../../media/cache/06/f1/06f185c0be2ad6e2fe059464c03f1b47.jpg"/></a>
</div>
<p class="star-rating Four">
<i class="icon-star"></i>
<i class="icon-star"></i>
<i class="icon-star"></i>
<i class="icon-star"></i>
<i class="icon-star"></i>
</p>
<h3><a href="../../../please-kill-me-the-uncensored-oral-history-of-punk_537/index.html" title="Please Kill Me: The Uncensored Oral History of Punk">Please Kill Me: The ...</a></h3>
<div class="product_price">
<p class="price_color">Â£31.19</p>
<p class="instock availability">
<i class="icon-ok"></i>
    
        In stock
    
</p>
<form>
<button class="btn btn-primary btn-block" data-loading-text="Adding..." type="submit">Add to basket</button>
</form>
</div>
</article>
</li>
<li class="col-xs-6 col-sm-4 col-md-3 col-lg-3">
<article class="product_pod">
<div class="image_container">
<a href="../../../kill-em-and-leave-searching-for-james-brown-and-the-american-soul_528/index.html"><img alt="Kill 'Em and Leave: Searching for James Brown and the American Soul" class="thumbnail" src="../../../../media/cache/85/42/8542841f5644a6daf433504f1e106e97.jpg"/></a>
</div>
<p class="star-rating Five">
<i class="icon-star"></i>
<i class="icon-star"></i>
<i class="icon-star"></i>
<i class="icon-star"></i>
<i class="icon-star"></i>
</p>
<h3><a href="../../../kill-em-and-leave-searching-for-james-brown-and-the-american-soul_528/index.html" title="Kill 'Em and Leave: Searching for James Brown and the American Soul">Kill 'Em and Leave: ...</a></h3>
<div class="product_price">
<p class="price_color">Â£45.05</p>
<p class="instock availability">
<i class="icon-ok"></i>
    
        In stock
    
</p>
<form>
<button class="btn btn-primary btn-block" data-loading-text="Adding..." type="submit">Add to basket</button>
</form>
</div>
</article>
</li>
<li class="col-xs-6 col-sm-4 col-md-3 col-lg-3">
<article class="product_pod">
<div class="image_container">
<a href="../../../chronicles-vol-1_462/index.html"><img alt="Chronicles, Vol. 1" class="thumbnail" src="../../../../media/cache/11/fc/11fc94453c4dc0d68543971d7843afb0.jpg"/></a>
</div>
<p class="star-rating Two">
<i class="icon-star"></i>
<i class="icon-star"></i>
<i class="icon-star"></i>
<i class="icon-star"></i>
<i class="icon-star"></i>
</p>
<h3><a href="../../../chronicles-vol-1_462/index.html" title="Chronicles, Vol. 1">Chronicles, Vol. 1</a></h3>
<div class="product_price">
<p class="price_color">Â£52.60</p>
<p class="instock availability">
<i class="icon-ok"></i>
    
        In stock
    
</p>
<form>
<button class="btn btn-primary btn-block" data-loading-text="Adding..." type="submit">Add to basket</button>
</form>
</div>
</article>
</li>
<li class="col-xs-6 col-sm-4 col-md-3 col-lg-3">
<article class="product_pod">
<div class="image_container">
<a href="../../../this-is-your-brain-on-music-the-science-of-a-human-obsession_414/index.html"><img alt="This Is Your Brain on Music: The Science of a Human Obsession" class="thumbnail" src="../../../../media/cache/35/a4/35a4a7c6c76c4e82186753078e441654.jpg"/></a>
</div>
<p class="star-rating One">
<i class="icon-star"></i>
<i class="icon-star"></i>
<i class="icon-star"></i>
<i class="icon-star"></i>
<i class="icon-star"></i>
</p>
<h3><a href="../../../this-is-your-brain-on-music-the-science-of-a-human-obsession_414/index.html" title="This Is Your Brain on Music: The Science of a Human Obsession">This Is Your Brain ...</a></h3>
<div class="product_price">
<p class="price_color">Â£38.40</p>
<p class="instock availability">
<i class="icon-ok"></i>
    
        In stock
    
</p>
<form>
<button class="btn btn-primary btn-block" data-loading-text="Adding..." type="submit">Add to basket</button>
</form>
</div>
</article>
</li>
<li class="col-xs-6 col-sm-4 col-md-3 col-lg-3">
<article class="product_pod">
<div class="image_container">
<a href="../../../orchestra-of-exiles-the-story-of-bronislaw-huberman-the-israel-philharmonic-and-the-one-thousand-jews-he-saved-from-nazi-horrors_337/index.html"><img alt="Orchestra of Exiles: The Story of Bronislaw Huberman, the Israel Philharmonic, and the One Thousand Jews He Saved from Nazi Horrors" class="thumbnail" src="../../../../media/cache/15/de/15de75548ee9a4c6be1420ee309c03e0.jpg"/></a>
</div>
<p class="star-rating Three">
<i class="icon-star"></i>
<i class="icon-star"></i>
<i class="icon-star"></i>
<i class="icon-star"></i>
<i class="icon-star"></i>
</p>
<h3><a href="../../../orchestra-of-exiles-the-story-of-bronislaw-huberman-the-israel-philharmonic-and-the-one-thousand-jews-he-saved-from-nazi-horrors_337/index.html" title="Orchestra of Exiles: The Story of Bronislaw Huberman, the Israel Philharmonic, and the One Thousand Jews He Saved from Nazi Horrors">Orchestra of Exiles: The ...</a></h3>
<div class="product_price">
<p class="price_color">Â£12.36</p>
<p class="instock availability">
<i class="icon-ok"></i>
    
        In stock
    
</p>
<form>
<button class="btn btn-primary btn-block" data-loading-text="Adding..." type="submit">Add to basket</button>
</form>
</div>
</article>
</li>
<li class="col-xs-6 col-sm-4 col-md-3 col-lg-3">
<article class="product_pod">
<div class="image_container">
<a href="../../../no-one-here-gets-out-alive_336/index.html"><img alt="No One Here Gets Out Alive" class="thumbnail" src="../../../../media/cache/7a/7e/7a7eb52e7075a5305522948375c1316e.jpg"/></a>
</div>
<p class="star-rating Five">
<i class="icon-star"></i>
<i class="icon-star"></i>
<i class="icon-star"></i>
<i class="icon-star"></i>
<i class="icon-star"></i>
</p>
<h3><a href="../../../no-one-here-gets-out-alive_336/index.html" title="No One Here Gets Out Alive">No One Here Gets ...</a></h3>
<div class="product_price">
<p class="price_color">Â£20.02</p>
<p class="instock availability">
<i class="icon-ok"></i>
    
        In stock
    
</p>
<form>
<button class="btn btn-primary btn-block" data-loading-text="Adding..." type="submit">Add to basket</button>
</form>
</div>
</article>
</li>
<li class="col-xs-6 col-sm-4 col-md-3 col-lg-3">
<article class="product_pod">
<div class="image_container">
<a href="../../../life_104/index.html"><img alt="Life" class="thumbnail" src="../../../../media/cache/99/97/9997eda658c2fe50e724171f9c2a2b0b.jpg"/></a>
</div>
<p class="star-rating Five">
<i class="icon-star"></i>
<i class="icon-star"></i>
<i class="icon-star"></i>
<i class="icon-star"></i>
<i class="icon-star"></i>
</p>
<h3><a href="../../../life_104/index.html" title="Life">Life</a></h3>
<div class="product_price">
<p class="price_color">Â£31.58</p>
<p class="instock availability">
<i class="icon-ok"></i>
    
        In stock
    
</p>
<form>
<button class="btn btn-primary btn-block" data-loading-text="Adding..." type="submit">Add to basket</button>
</form>
</div>
</article>
</li>
<li class="col-xs-6 col-sm-4 col-md-3 col-lg-3">
<article class="product_pod">
<div class="image_container">
<a href="../../../old-records-never-die-one-mans-quest-for-his-vinyl-and-his-past_39/index.html"><img alt="Old Records Never Die: One Man's Quest for His Vinyl and His Past" class="thumbnail" src="../../../../media/cache/7e/94/7e947f3dd04f178175b85123829467a9.jpg"/></a>
</div>
<p class="star-rating Two">
<i class="icon-star"></i>
<i class="icon-star"></i>
<i class="icon-star"></i>
<i class="icon-star"></i>
<i class="icon-star"></i>
</p>
<h3><a href="../../../old-records-never-die-one-mans-quest-for-his-vinyl-and-his-past_39/index.html" title="Old Records Never Die: One Man's Quest for His Vinyl and His Past">Old Records Never Die: ...</a></h3>
<div class="product_price">
<p class="price_color">Â£55.66</p>
<p class="instock availability">
<i class="icon-ok"></i>
    
        In stock
    
</p>
<form>
<button class="btn btn-primary btn-block" data-loading-text="Adding..." type="submit">Add to basket</button>
</form>
</div>
</article>
</li>
<li class="col-xs-6 col-sm-4 col-md-3 col-lg-3">
<article class="product_pod">
<div class="image_container">
<a href="../../../forever-rockers-the-rocker-12_19/index.html"><img alt="Forever Rockers (The Rocker #12)" class="thumbnail" src="../../../../media/cache/7f/b0/7fb03a053c270000667a50dd8d594843.jpg"/></a>
</div>
<p class="star-rating Three">
<i class="icon-star"></i>
<i class="icon-star"></i>
<i class="icon-star"></i>
<i class="icon-star"></i>
<i class="icon-star"></i>
</p>
<h3><a href="../../../forever-rockers-the-rocker-12_19/index.html" title="Forever Rockers (The Rocker #12)">Forever Rockers (The Rocker ...</a></h3>
<div class="product_price">
<p class="price_color">Â£28.80</p>
<p class="instock availability">
<i class="icon-ok"></i>
    
        In stock
    
</p>
<form>
<button class="btn btn-primary btn-block" data-loading-text="Adding..." type="submit">Add to basket</button>
</form>
</div>
</article>
</li>
</ol>
</div>
</section>
</div>
</div><!-- /row -->
</div><!-- /page_inner -->
</div><!-- /container-fluid -->
<footer class="footer container-fluid">
</footer>
<!-- jQuery -->
<script src="http://ajax.googleapis.com/ajax/libs/jquery/1.9.1/jquery.min.js"></script>
<script>window.jQuery || document.write('<script src="../../../../static/oscar/js/jquery/jquery-1.9.1.min.js"><\/script>')</script>
<!-- Twitter Bootstrap -->
<script src="../../../../static/oscar/js/bootstrap3/bootstrap.min.js" type="text/javascript"></script>
<!-- Oscar -->
<script charset="utf-8" src="../../../../static/oscar/js/oscar/ui.js" type="text/javascript"></script>
<script charset="utf-8" src="../../../../static/oscar/js/bootstrap-datetimepicker/bootstrap-datetimepicker.js" type="text/javascript"></script>
<script charset="utf-8" src="../../../../static/oscar/js/bootstrap-datetimepicker/locales/bootstrap-datetimepicker.all.js" type="text/javascript"></script>
<script type="text/javascript">
            $(function() {
                
    
    
    oscar.init();

    oscar.search.init();

            });
        </script>
<!-- Version: N/A -->
</body>
</html>\
n"

     ]
   ]
  },
  {
   "cell_type": "markdown",
   "metadata": {
    "collapsed": true
   },
   "source": [
    "At any point, if you need a reference, visit the [Beautiful Soup documentation](http://www.crummy.com/software/BeautifulSoup/bs4/doc/) for the official descriptions of functions. Prettify is a handy one to see our document in a clean fashion.\n",
    "\n",
    "#### Navigating the Data Structure\n",
    "\n",
    "With our data from the webpage nicely laid out, Beautiful Soup allows us to now navigate the data structure. We called our Beautiful Soup object **soup**, so we can run the Beautiful Soup functions on this object. Let's explore some ways to do this, try entering some of the following into your terminal."
   ]
  },
  {
   "cell_type": "code",
   "execution_count": 5,
   "metadata": {
    "collapsed": false
   },
   "outputs": [
    {
     "data": {
      "text/plain": [
       "<title>
           Music | 
            Books to Scrape - Sandbox
       
       </title>
"
      ]
     },
     "execution_count": 5,
     "metadata": {},
     "output_type": "execute_result"
    }
   ],
   "source": [
    "# Access the title element\n",
    "soup.title"
   ]
  },
  {
   "cell_type": "code",
   "execution_count": 6,
   "metadata": {
    "collapsed": false
   },
   "outputs": [
    {
     "data": {
      "text/plain": [
       "u'
         <title>
         Music | 
          Books to Scrape - Sandbox
     
     </title>
'
       "
      ]
     },
     "execution_count": 6,
     "metadata": {},
     "output_type": "execute_result"
    }
   ],
   "source": [
    "# Access the content of the title element\n",
    "soup.title.string"
   ]
  },
  {
   "cell_type": "code",
   "execution_count": 7,
   "metadata": {
    "collapsed": false
   },
   "outputs": [
    {
     "data": {
      "text/plain": [
       "'\n    Music | \n     Books to Scrape - Sandbox\n\n'"
      ]
     },
     "execution_count": 7,
     "metadata": {},
     "output_type": "execute_result"
    }
   ],
   "source": [
    "# Access data in the first 'p' tag\n",
    "soup.p"
   ]
  },
  {
   "cell_type": "code",
   "execution_count": 8,
   "metadata": {
    "collapsed": false
   },
   "outputs": [
    {
     "data": {
      "text/plain": [
       "<p class="star-rating Five">
           <i class="icon-star"></i>
           <i class="icon-star"></i>
           <i class="icon-star"></i>
           <i class="icon-star"></i>
           <i class="icon-star"></i>
           </p>
"
      ]
     },
     "execution_count": 8,
     "metadata": {},
     "output_type": "execute_result"
    }
   ],
   "source": [
    "# Access data in the first 'a' tag\n",
    "soup.a"
   ]
  },
  {
   "cell_type": "code",
   "execution_count": 9,
   "metadata": {
    "collapsed": false
   },
   "outputs": [
    {
     "data": {
      "text/plain": [
       "<a href="../../../../index.html">Books to Scrape</a>"
      ]
     },
     "execution_count": 9,
     "metadata": {},
     "output_type": "execute_result"
    }
   ],
   "source": [
    "# Retrieve all links in the document (note it returns an array)\n",
    "soup.find_all('a')"
   ]
  },
  {
   "cell_type": "code",
   "execution_count": 10,
   "metadata": {
    "collapsed": false
   },
   "outputs": [
    {
     "data": {
      "text/plain": [
       "[<a href="../../../rip-it-up-and-start-again_986/index.html"><img alt="Rip it Up and Start Again" class="thumbnail" src="../../../../media/cache/81/c4/81c4a973364e17d01f217e1188253d5e.jpg"/></a>,\n",
       "a href="../../../please-kill-me-the-uncensored-oral-history-of-punk_537/index.html" title="Please Kill Me: The Uncensored Oral History of Punk">Please Kill Me: The ...</a>,\n",
       "<a href="../../../this-is-your-brain-on-music-the-science-of-a-human-obsession_414/index.html" title="This Is Your Brain on Music: The Science of a Human Obsession">This Is Your Brain ...</a>,\n",
       "<a href="../../../old-records-never-die-one-mans-quest-for-his-vinyl-and-his-past_39/index.html" title="Old Records Never Die: One Man's Quest for His Vinyl and His Past">Old Records Never Die: ...</a>, <a href="../../../forever-rockers-the-rocker-12_19/index.html"><img alt="Forever Rockers (The Rocker #12)" class="thumbnail" src="../../../../media/cache/7f/b0/7fb03a053c270000667a50dd8d594843.jpg"/></a>,....]"


      ]
     },
     "execution_count": 10,
     "metadata": {},
     "output_type": "execute_result"
    }
   ],
   "source": [
    "# Retrieve elements by class equal to link using the attributes argument\n",
    "soup.findAll(attrs={'class' : 'thumbnail'})\n"
   ]
  },
  {
   "cell_type": "code",
   "execution_count": 11,
   "metadata": {
    "collapsed": false
   },
   "outputs": [
    {
     "data": {
      "text/plain": [
       "[
         '<img alt="Rip it Up and Start Again" class="thumbnail" src="../../../../media/cache/81/c4/81c4a973364e17d01f217e1188253d5e.jpg"/>\n', 
         '<img alt="Our Band Could Be Your Life: Scenes from the American Indie Underground, 1981-1991" class="thumbnail" src="../../../../media/cache/54/60/54607fe8945897cdcced0044103b10b6.jpg"/>\n', 
         '<img alt="How Music Works" class="thumbnail" src="../../../../media/cache/5c/c8/5cc8e107246cb478960d4f0aba1e1c8e.jpg"/>\n', 
         '<img alt="Love Is a Mix Tape (Music #1)" class="thumbnail" src="../../../../media/cache/a2/6d/a26d8449abb3381e09126eda5f4e8151.jpg"/>\n', 
         '<img alt="Please Kill Me: The Uncensored Oral History of Punk" class="thumbnail" src="../../../../media/cache/06/f1/06f185c0be2ad6e2fe059464c03f1b47.jpg"/>\n', 
         '<img alt="Kill 'Em and Leave: Searching for James Brown and the American Soul" class="thumbnail" src="../../../../media/cache/85/42/8542841f5644a6daf433504f1e106e97.jpg"/>\n', 
         '<img alt="Chronicles, Vol. 1" class="thumbnail" src="../../../../media/cache/11/fc/11fc94453c4dc0d68543971d7843afb0.jpg"/>\n', 
         '<img alt="This Is Your Brain on Music: The Science of a Human Obsession" class="thumbnail" src="../../../../media/cache/35/a4/35a4a7c6c76c4e82186753078e441654.jpg"/>\n',...
      ]"
      ]
     },
     "execution_count": 11,
     "metadata": {},
     "output_type": "execute_result"
    }
   ],
   "source": [
    "# Retrieve all tags with the id attribute [note : returns an array]\n",
    "# However for retrieving a specific id attribute :  soup.find(id='promotions')\n",

    "tags_with_id = soup.find_all(lambda tag: tag.has_attr("id"))"
    "for tag in tags_with_id: \n"
      "print(tag, tag["id"])\n"
   ]
  },
  {
   "cell_type": "code",
   "execution_count": 12,
   "metadata": {
    "collapsed": false
   },
   "outputs": [
    {
     "data": {
      "text/plain": [
       "[<div id="promotions_left"></div> promotions_left,\n",
       " <div id="messages"></div> messages,\n",
       "<div id="promotions"></div>  promotions,\n",
       ]"
      ]
     },
     "execution_count": 12,
     "metadata": {},
     "output_type": "execute_result"
    }
   ],
  {
   "cell_type": "markdown",
   "metadata": {},
   "source": [
    "#### Working with Arrays\n",
    "\n",
    "The easiest way to access elements and then either write them to file or manipulate them is to save them as objects themselves. Note that our data is organzed into cities and numbers. Let's save these to arrays, which are the easiest way to work with the data.\n",
    "\n",
    "The following gives us an array, we can work with the elements."
   ]
  },
{
   "source": [
    "data = soup.find_all('p')\n",
    "print data[0]\n",
    "print data[1]\n",
    "print data[2]\n",
    #for text node
    "print data[3].string"
   ]
  },
  {
   "cell_type": "markdown",
   "metadata": {},
   "source": [
    "You never want to repeat code like this, so turn this into a loop:"
   ]
  },
  {
   "cell_type": "code",
   "execution_count": 14,
   "metadata": {
    "collapsed": false
   },
   "outputs": [
    {
     "name": "stdout",
     "output_type": "stream",
     "text": [
      "Cambridge\n",
      "Boston\n",
      "Somerville\n",
      "Brookline\n"
     ]
    }
   ],
   "source": [
    "data = soup.find_all('p')\n",
    "for i in data:\n",
      "print(i)\n"
      #for printing text nodes
      "print(i.string)\n"
   ]
  },
  {
   "cell_type": "markdown",
   "metadata": {},
   "source": [
    "This array only gives us book in stock and their colors though, let's get all of the data elements that have either class **price_color** or class **instock availability**."
   ]
  },
  {
   "cell_type": "code",
   "execution_count": 15,
   "metadata": {
    "collapsed": false
   },
   "outputs": [
    {
     "name": "stdout",
     "output_type": "stream",
     "text": [
      "[<p class="price_color">Â£55.66</p>,
        <p class="instock availability">
        <i class="icon-ok"></i>
            
                In stock
            
        </p>
,...]\n"
     ]
    }
   ],
   "source": [
    "data = soup.findAll(attrs={'class':['price_color','instock availability']})\n",
    "print(data)"
   ]
  },
  {
   "cell_type": "markdown",
   "metadata": {},
   "source": [
    "We have all of our data that was nested in these tags saved to a Python array. Access the elements of the array by using data[x], where x is location in the array. In Python, arrays start at 0, so place 1 in a Python array is actually called by using a 0, and place 8 would be called by a 7."
   ]
  },
  {
   "cell_type": "code",
   "execution_count": 16,
   "metadata": {
    "collapsed": false
   },
   "outputs": [
    {
     "name": "stdout",
     "output_type": "stream",
     "text": [
      "<p class="price_color">Â£28.80</p>\n",
      "p class="instock availability">
        <i class="icon-ok"></i>
    
        In stock  
       </p>\n"
     ]
    }
   ],
   "source": [
    "print data[0]\n",
    "print data[1]"
   ]
  },
  {
   "cell_type": "markdown",
   "metadata": {},
   "source": [
    "Right now, we get the whole element with those commands. To get just the content, use the following."
   ]
  },
  {
   "cell_type": "code",
   "execution_count": 17,
   "metadata": {
    "collapsed": false
   },
   "outputs": [
    {
     "name": "stdout",
     "output_type": "stream",
     "text": [
      "<p class="price_color">Â£35.02</p>\n",
      "<p class="instock availability">
        <i class="icon-ok"></i>
    
        In stock
    
       </p>
\n"
     ]
    }
   ],
   "source": [
    "print data[0].string\n",
    "print data[1].string"
   ]
  },
  {
   "cell_type": "markdown",
   "metadata": {},
   "source": [
    "#### Write Data to a File using a Simple Loop\n",
    "\n",
    "Python makes opening a file and writing to it very easy. Let's take this simple dataset and write it to a file that saves in our current working directory. An important note, whatever the working directory is when you start Python will be the root for where your files are read from and written to.\n",
    "\n",
    "Python also has nice iteration features that allow us to iterate through arrays, lists, and other files. In this following example, manually create a comma-separated document with our data using file writing operations and a while loop.\n",
    "\n",
    "In pseudo-code:\n",
    "\n",
    "1. Open up a file to write in and append data.\n",
    "\n",
    "2. Set up parameters for the while loop\n",
    "\n",
    "3. Write headers\n",
    "\n",
    "4. Run while loop that will write elements of the array to file\n",
    "\n",
    "5. When complete, close the file\n",
    "\n",
    "Once done, open the file on your machine and see your data. Enter the following code, note what each line is doing."
   ]
  },
  {
   "cell_type": "code",
   "execution_count": 19,
   "metadata": {
    "collapsed": false
   },
   "outputs": [],
   "source": [
    "f = open('books_data.txt','a') # open new file\n",
    "\n",
    "p = 0 # initial place in array\n",
    "l = len(data)-1 # length of array minus one\n",
    "\n",
    "f.write(\"Coloockr, IN_st\\n\") #write headers\n",
    "\n",
    "while p < l: # while place is less than length\n",
    "    f.write(data[p].string + \", \") # write city and add comma\n",
    "    p = p + 1 # increment\n",
    "    f.write(data[p] + \"\\n\") # write stock and line break\n",
    "    p = p + 1 # increment\n",
    "\n",
    "f.close() # close file"
   ]
  },
  {
   "cell_type": "markdown",
   "metadata": {
    "collapsed": false
   },
   "source": [
    "Open **books_data.txt** on your machine. It's a CSV with the data from the page!\n",
    "\n",
    "---\n",
    "\n",
    "```sh\n",
    "Color, In_Stock\n",
    "Â£35.02, , \n",
    "```\n",
    "\n",
    "---\n",
    "\n",
    "To see a completed script to extract this data from the books to scrape website, view **books_data.txt** in the materials.\n",
    "\n",
    "Further reading on File Reading and Writing and Iteration in Python can be found at the following links.\n",
    "\n",
    "[Python File Reading and Writing Documentation](https://docs.python.org/2/tutorial/inputoutput.html#reading-and-writing-files)\n",
    "\n",
    "[Tutorials Point Python While Loop Statements](http://www.tutorialspoint.com/python/python_while_loop.htm)\n",
    "\n",
    "We created this CSV manually to illustrate some basic Python. Python has modules and features that support CSV as well that are very useful and handy. These are best if you are reading in a CSV, allowing you to access the elements of the CSV. You can read more about the built in CSV module [here](https://docs.python.org/2/library/csv.html).\n",
    "\n",
    "You've got your feet wet, over the next weeks, there will be much more to come on Python and data scraping!"
   ]
  },
  {
   "cell_type": "markdown",
   "metadata": {
    "collapsed": true
   },
   "source": [
    "***\n",
    "\n",
    "## Additional Reading and Resources\n",
    "\n",
    "#### Conda Command Line Cheatsheet -\n",
    "http://conda.pydata.org/docs/_downloads/conda-cheatsheet.pdf\n",
    "\n",
    "#### Mac Command Line Cheatsheet –\n",
    "https://github.com/0nn0/terminal-mac-cheatsheet/wiki/Terminal-Cheatsheet-for-Mac-(-basics-)\n",
    "\n",
    "#### Python Documentation -\n",
    "https://docs.python.org/2/library/index.html\n",
    "\n",
    "#### Beautiful Soup Tutorials -\n",
    "http://www.crummy.com/software/BeautifulSoup/bs4/doc/"
   ]
  }
 ],
 "metadata": {
  "kernelspec": {
   "display_name": "Python 2",
   "language": "python",
   "name": "python2"
  },
  "language_info": {
   "codemirror_mode": {
    "name": "ipython",
    "version": 2
   },
   "file_extension": ".py",
   "mimetype": "text/x-python",
   "name": "python",
   "nbconvert_exporter": "python",
   "pygments_lexer": "ipython2",
   "version": "2.7.11"
  }
 },
 "nbformat": 4,
 "nbformat_minor": 0
}
